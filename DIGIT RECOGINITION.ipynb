{
 "cells": [
  {
   "cell_type": "code",
   "execution_count": 1,
   "id": "ac20904d",
   "metadata": {},
   "outputs": [],
   "source": [
    "import cv2\n",
    "import numpy as np\n",
    "from tensorflow.keras.models import load_model"
   ]
  },
  {
   "cell_type": "code",
   "execution_count": 2,
   "id": "eeaf5c25",
   "metadata": {},
   "outputs": [],
   "source": [
    "cap = cv2.VideoCapture(0 + cv2.CAP_DSHOW)\n",
    "WIDTH = cap.get(cv2.CAP_PROP_FRAME_WIDTH)\n",
    "HEIGHT = cap.get(cv2.CAP_PROP_FRAME_HEIGHT)\n"
   ]
  },
  {
   "cell_type": "code",
   "execution_count": 3,
   "id": "a028c5e3",
   "metadata": {},
   "outputs": [],
   "source": [
    "model = load_model(\"E:\\digits.h5\")"
   ]
  },
  {
   "cell_type": "code",
   "execution_count": 4,
   "id": "dd7d2651",
   "metadata": {},
   "outputs": [],
   "source": [
    "def prediction(image, model):\n",
    "    img = cv2.resize(image, (28, 28))\n",
    "    img = img / 255\n",
    "    img = img.reshape(1, 28, 28, 1)\n",
    "    predict = model.predict(img)\n",
    "    prob = np.amax(predict)\n",
    "    class_index = model.predict_classes(img)\n",
    "    result = class_index[0]\n",
    "    if prob < 0.75:\n",
    "        result = 0\n",
    "        prob = 0\n",
    "    return result, prob\n"
   ]
  },
  {
   "cell_type": "code",
   "execution_count": 5,
   "id": "50e76a87",
   "metadata": {},
   "outputs": [
    {
     "ename": "KeyboardInterrupt",
     "evalue": "",
     "output_type": "error",
     "traceback": [
      "\u001b[1;31m---------------------------------------------------------------------------\u001b[0m",
      "\u001b[1;31mKeyboardInterrupt\u001b[0m                         Traceback (most recent call last)",
      "\u001b[1;32m~\\AppData\\Local\\Temp/ipykernel_10760/45924945.py\u001b[0m in \u001b[0;36m<cell line: 3>\u001b[1;34m()\u001b[0m\n\u001b[0;32m      2\u001b[0m \u001b[1;33m\u001b[0m\u001b[0m\n\u001b[0;32m      3\u001b[0m     \u001b[0m_\u001b[0m\u001b[1;33m,\u001b[0m \u001b[0mframe\u001b[0m \u001b[1;33m=\u001b[0m \u001b[0mcap\u001b[0m\u001b[1;33m.\u001b[0m\u001b[0mread\u001b[0m\u001b[1;33m(\u001b[0m\u001b[1;33m)\u001b[0m\u001b[1;33m\u001b[0m\u001b[1;33m\u001b[0m\u001b[0m\n\u001b[1;32m----> 4\u001b[1;33m     \u001b[0mframe\u001b[0m \u001b[1;33m=\u001b[0m \u001b[0mcv2\u001b[0m\u001b[1;33m.\u001b[0m\u001b[0mrotate\u001b[0m\u001b[1;33m(\u001b[0m\u001b[0mframe\u001b[0m\u001b[1;33m,\u001b[0m \u001b[0mcv2\u001b[0m\u001b[1;33m.\u001b[0m\u001b[0mROTATE_180\u001b[0m\u001b[1;33m)\u001b[0m\u001b[1;33m\u001b[0m\u001b[1;33m\u001b[0m\u001b[0m\n\u001b[0m\u001b[0;32m      5\u001b[0m     \u001b[0mframe_copy\u001b[0m \u001b[1;33m=\u001b[0m \u001b[0mframe\u001b[0m\u001b[1;33m.\u001b[0m\u001b[0mcopy\u001b[0m\u001b[1;33m(\u001b[0m\u001b[1;33m)\u001b[0m\u001b[1;33m\u001b[0m\u001b[1;33m\u001b[0m\u001b[0m\n\u001b[0;32m      6\u001b[0m \u001b[1;33m\u001b[0m\u001b[0m\n",
      "\u001b[1;31mKeyboardInterrupt\u001b[0m: "
     ]
    }
   ],
   "source": [
    "while True:\n",
    "\n",
    "    _, frame = cap.read()\n",
    "    frame = cv2.rotate(frame, cv2.ROTATE_180)\n",
    "    frame_copy = frame.copy()\n",
    "\n",
    "    bbox_size = (60, 60)\n",
    "    bbox = [(int(WIDTH // 2 - bbox_size[0] // 2), int(HEIGHT // 2 - bbox_size[1] // 2)),\n",
    "            (int(WIDTH // 2 + bbox_size[0] // 2), int(HEIGHT // 2 + bbox_size[1] // 2))]\n",
    "\n",
    "    img_cropped = frame[bbox[0][1]:bbox[1][1], bbox[0][0]:bbox[1][0]]\n",
    "    img_gray = cv2.cvtColor(img_cropped, cv2.COLOR_BGR2GRAY)\n",
    "    img_gray = cv2.resize(img_gray, (200, 200))\n",
    "    cv2.imshow(\"cropped\", img_gray)\n"
   ]
  },
  {
   "cell_type": "code",
   "execution_count": null,
   "id": "8602e035",
   "metadata": {},
   "outputs": [],
   "source": [
    "    cv2.imshow(\"input\", frame_copy)"
   ]
  },
  {
   "cell_type": "code",
   "execution_count": null,
   "id": "c0a1d690",
   "metadata": {},
   "outputs": [],
   "source": [
    "\n",
    "    cv2.imshow(\"input\", frame_copy)\n",
    "\n",
    "    if cv2.waitKey(1) & 0xFF == 27:\n",
    "        break\n",
    "\n",
    "cv2.destroyAllWindows()"
   ]
  }
 ],
 "metadata": {
  "kernelspec": {
   "display_name": "Python 3 (ipykernel)",
   "language": "python",
   "name": "python3"
  },
  "language_info": {
   "codemirror_mode": {
    "name": "ipython",
    "version": 3
   },
   "file_extension": ".py",
   "mimetype": "text/x-python",
   "name": "python",
   "nbconvert_exporter": "python",
   "pygments_lexer": "ipython3",
   "version": "3.9.7"
  }
 },
 "nbformat": 4,
 "nbformat_minor": 5
}
